{
 "cells": [
  {
   "cell_type": "markdown",
   "metadata": {},
   "source": [
    "# Imports and constants\n"
   ]
  },
  {
   "cell_type": "code",
   "execution_count": 21,
   "metadata": {},
   "outputs": [],
   "source": [
    "from typing import Any\n",
    "from PIL import Image\n",
    "from torch.utils.data import Dataset, DataLoader\n",
    "from dataclasses import dataclass\n",
    "from transformers import (\n",
    "    Mask2FormerImageProcessor,\n",
    "    AutoImageProcessor,\n",
    "    Mask2FormerForUniversalSegmentation,\n",
    ")\n",
    "from tqdm import tqdm\n",
    "import pandas as pd\n",
    "import numpy as np\n",
    "import os\n",
    "import sys\n",
    "import torch\n",
    "import matplotlib.pyplot as plt\n",
    "import albumentations as A\n",
    "import evaluate\n",
    "import gdown"
   ]
  },
  {
   "cell_type": "code",
   "execution_count": 2,
   "metadata": {},
   "outputs": [],
   "source": [
    "sys.path.append(os.path.join(os.getcwd(), 'wildscenes', 'tools'))\n",
    "from utils2d import (\n",
    "  METAINFO,\n",
    "\tcidx_2_class, \n",
    "\tclass_2_cidx, \n",
    ")"
   ]
  },
  {
   "cell_type": "code",
   "execution_count": 3,
   "metadata": {},
   "outputs": [],
   "source": [
    "IGNORED_CLASSES = {0,1,12,13}\n",
    "IMG_WIDTH = 2016\n",
    "IMG_HEIGHT = 1512\n",
    "BATCH_SIZE = 16"
   ]
  },
  {
   "cell_type": "markdown",
   "metadata": {},
   "source": [
    "# CSV, dataset paths and file constants\n",
    "Feel free to change the paths of the following accordingly "
   ]
  },
  {
   "cell_type": "code",
   "execution_count": 4,
   "metadata": {},
   "outputs": [],
   "source": [
    "TRAIN_CSV = \"data/splits/opt2d/train.csv\"\n",
    "TEST_CSV = \"data/splits/opt2d/test.csv\"\n",
    "VAL_CSV = \"data/splits/opt2d/val.csv\"\n",
    "\n",
    "TRAIN_IMG_PATH = \"data/processed/wildscenes_opt2d/train/image\"\n",
    "TRAIN_MASK_PATH = \"data/processed/wildscenes_opt2d/train/indexLabel\"\n",
    "TEST_IMG_PATH = \"data/processed/wildscenes_opt2d/test/image\"\n",
    "TEST_MASK_PATH = \"data/processed/wildscenes_opt2d/test/indexLabel\"\n",
    "VAL_IMG_PATH = \"data/processed/wildscenes_opt2d/val/image\"\n",
    "VAL_MASK_PATH = \"data/processed/wildscenes_opt2d/val/indexLabel\"\n",
    "\n",
    "OUTPUT_DIR = os.getcwd()\n",
    "TRAINED_DIR = os.getcwd()\n",
    "CLASS_WEIGHTS = \"class_weights.txt\"\n",
    "MODEL_NAME = \"mask2former_v2\""
   ]
  },
  {
   "cell_type": "markdown",
   "metadata": {},
   "source": [
    "# Dataset preprocessing and loading"
   ]
  },
  {
   "cell_type": "markdown",
   "metadata": {},
   "source": [
    "**Description:**\n",
    "\n",
    "- The `train_transforms` function is used to perform data augmentation on training images.\n",
    "\n",
    "- The `test_val_transforms` function preprocesses images for testing and validation.\n",
    "\n",
    "- The `collate_fn function` is utilized in PyTorch DataLoaders to aggregate individual data samples into batches.\n",
    "\n",
    "- The `WildScenesDataset` class is a custom implementation of a PyTorch `Dataset` that is used to load and manage data for semantic segmentation tasks. It handles the loading of images and their corresponding labels from a dataset directory, applies necessary transformations, and provides an interface for indexing and accessing individual samples.\n",
    "\n",
    "- The `get_dataset` function creates and returns instances of the `WildScenesDataset` class for training, validation, and testing datasets.\n",
    "\n",
    "- The `get_dataloaders` function creates and returns PyTorch DataLoader instances for training, validation, and testing datasets\n"
   ]
  },
  {
   "cell_type": "code",
   "execution_count": 5,
   "metadata": {},
   "outputs": [],
   "source": [
    "df_train = pd.read_csv(TRAIN_CSV)\n",
    "df_test = pd.read_csv(TEST_CSV)\n",
    "df_val = pd.read_csv(VAL_CSV)"
   ]
  },
  {
   "cell_type": "code",
   "execution_count": 6,
   "metadata": {},
   "outputs": [],
   "source": [
    "preprocessor = Mask2FormerImageProcessor(\n",
    "    ignore_index=0,\n",
    "    do_reduce_labels=False,\n",
    "    do_resize=False,\n",
    "    do_rescale=False,\n",
    "    do_normalize=True,\n",
    ")\n",
    "\n",
    "def train_transforms():\n",
    "\treturn A.Compose([\n",
    "\t\t\tA.RandomCrop(width=224, height=224),\n",
    "\t\t\tA.VerticalFlip(p=0.5),\n",
    "\n",
    "\t\t])\n",
    "\n",
    "def test_val_transforms():\n",
    "\treturn A.Compose([\n",
    "\t\t\tA.Resize(width=224, height=224),\n",
    "\n",
    "\t])\n",
    "\n",
    "@dataclass\n",
    "class SegmentationDataInput:\n",
    "    original_image: np.ndarray\n",
    "    transformed_image: np.ndarray\n",
    "    original_mask: np.ndarray\n",
    "    transformed_mask: np.ndarray\n",
    "\n",
    "class WildScenesDataset(Dataset):\n",
    "\t\tdef __init__(self, df, img_dir, mask_dir, transform: Any = None):\n",
    "\t\t\t\tself.df = df\n",
    "\t\t\t\tself.img_dir = img_dir\n",
    "\t\t\t\tself.mask_dir = mask_dir\n",
    "\t\t\t\tself.transform = transform\n",
    "\n",
    "\t\tdef __len__(self):\n",
    "\t\t\t\treturn len(self.df)\n",
    "\n",
    "\t\tdef __getitem__(self, idx):\n",
    "\t\t\t\timg_id = self.df.iloc[idx]['id']\n",
    "\t\t\t\timg_path = os.path.join(self.img_dir, img_id + '.png')\n",
    "\t\t\t\tmask_path = os.path.join(self.mask_dir, img_id + '.png')\n",
    "\n",
    "\t\t\t\timg = Image.open(img_path).convert(\"RGB\")\n",
    "\t\t\t\timg = np.array(img).astype('uint8')\n",
    "\n",
    "\t\t\t\tmask = Image.open(mask_path).convert(\"L\")\n",
    "\t\t\t\tmask = np.array(mask)\n",
    "\n",
    "\t\t\t\taugmented = self.transform(image=img, mask=mask)\n",
    "\t\t\t\ttransformed_image = augmented['image']\n",
    "\t\t\t\ttransformed_mask = augmented['mask']\n",
    "\n",
    "\t\t\t\treturn SegmentationDataInput(\n",
    "\t\t\t\t\t\toriginal_image=img,\n",
    "\t\t\t\t\t\ttransformed_image=transformed_image,\n",
    "\t\t\t\t\t\toriginal_mask=mask,\n",
    "\t\t\t\t\t\ttransformed_mask=transformed_mask\n",
    "\t\t\t\t)\n",
    "\n",
    "def collate_fn(batch: list) -> dict:\n",
    "    original_images = [sample.original_image for sample in batch]\n",
    "    transformed_images = [sample.transformed_image for sample in batch]\n",
    "    original_masks = [sample.original_mask for sample in batch]\n",
    "    transformed_masks = [sample.transformed_mask for sample in batch]\n",
    "\n",
    "    preprocessed_batch = preprocessor(\n",
    "        images=transformed_images,\n",
    "        segmentation_maps=transformed_masks,\n",
    "        return_tensors=\"pt\"\n",
    "    )\n",
    "\n",
    "    preprocessed_batch[\"original_images\"] = torch.stack([torch.tensor(img, dtype=torch.float32) for img in original_images])\n",
    "    preprocessed_batch[\"original_masks\"] = torch.stack([torch.tensor(mask, dtype=torch.long) for mask in original_masks])\n",
    "\n",
    "    return preprocessed_batch"
   ]
  },
  {
   "cell_type": "code",
   "execution_count": 7,
   "metadata": {},
   "outputs": [],
   "source": [
    "def get_dataset(\n",
    "    df_train,\n",
    "    train_img_path,\n",
    "    train_mask_path,\n",
    "    df_val,\n",
    "    val_img_path,\n",
    "    val_mask_path,\n",
    "    df_test,\n",
    "    test_img_path,\n",
    "    test_mask_path\n",
    "):\n",
    "\ttrain = WildScenesDataset(df_train,train_img_path,train_mask_path, transform=train_transforms())\n",
    "\tval = WildScenesDataset(df_val, val_img_path, val_mask_path, transform=test_val_transforms())\n",
    "\ttest = WildScenesDataset(df_test, test_img_path, test_mask_path, transform=test_val_transforms())\n",
    "\treturn train, val, test\n",
    "\n",
    "def get_dataloaders(train, val, test, size):\n",
    "\n",
    "\ttrain_dataloader = DataLoader(\n",
    "\t\t\ttrain, batch_size=size, shuffle=True, collate_fn=collate_fn\n",
    "\t)\n",
    "\tval_dataloader = DataLoader(\n",
    "\t\t\tval, batch_size=size, shuffle=True, collate_fn=collate_fn\n",
    "\t)\n",
    "\ttest_dataloader = DataLoader(\n",
    "\t\t\ttest, batch_size=size, shuffle=False, collate_fn=collate_fn\n",
    "\t)\n",
    "\treturn train_dataloader, val_dataloader, test_dataloader"
   ]
  },
  {
   "cell_type": "markdown",
   "metadata": {},
   "source": [
    "# Loading weights and model\n",
    "\n",
    "The `load_weights` function is used to load and process class weights from a file. It loads the weights from the given path, perform normalisation and scaling and set `weights = 0` for classes in `IGNORED_CLASSES`.\n",
    "\n",
    "The `load_training_model` function sets up a Mask2Former model with a ConvNeXtV2 backbone and its associated preprocessor for training.\n"
   ]
  },
  {
   "cell_type": "code",
   "execution_count": 8,
   "metadata": {},
   "outputs": [],
   "source": [
    "def load_weights(path):\n",
    "\tweights = np.loadtxt(path)\n",
    "\tscaling_factor = 1e5\n",
    "\tnorm_weights = weights/np.sum(weights)\n",
    "\tscaled_weights = norm_weights * scaling_factor\n",
    "\tweights = scaled_weights.astype(int).tolist()\n",
    "\tweights.insert(0,0)\n",
    "\tfor id, _ in enumerate(weights):\n",
    "\t\tif id in IGNORED_CLASSES:\n",
    "\t\t\tweights[id] = 0\n",
    "\tprint(\"Loaded weights from .txt file:\", weights)\n",
    "\treturn weights"
   ]
  },
  {
   "cell_type": "code",
   "execution_count": 9,
   "metadata": {},
   "outputs": [],
   "source": [
    "def load_training_model(weights):\n",
    "\tpreprocessor = AutoImageProcessor.from_pretrained(\"facebook/mask2former-swin-base-IN21k-ade-semantic\")\n",
    "\tmodel = Mask2FormerForUniversalSegmentation.from_pretrained(\"facebook/mask2former-swin-base-IN21k-ade-semantic\")\n",
    "\tmodel.config.class_weight = weights\n",
    "\tmodel.config.backbone = \"facebook/convnextv2-tiny-22k-384\"\n",
    "\tmodel.config.use_pretrained_backbone = True\n",
    "\treturn preprocessor, model"
   ]
  },
  {
   "cell_type": "markdown",
   "metadata": {},
   "source": [
    "# Saving and loading trained model\n",
    "\n",
    "- The `save_model` function saves the current state of the model.\n",
    "\n",
    "- The `load_pth` function accesses the drive where the trained model is located and downloads it to directory set by `TRAINED_DIR`\n",
    "\n",
    "- The `load_model` function loads the model state from a specifed file path\n"
   ]
  },
  {
   "cell_type": "code",
   "execution_count": 22,
   "metadata": {},
   "outputs": [],
   "source": [
    "def save_model(model: Any, name: str):\n",
    "    if not os.path.exists(OUTPUT_DIR):\n",
    "        os.makedirs(OUTPUT_DIR)\n",
    "\n",
    "    model_path = os.path.join(OUTPUT_DIR, f\"{name}.pth\")\n",
    "    torch.save(model.state_dict(), model_path)\n",
    "\n",
    "    print(\"Saved model to disk at \", model_path)\n",
    "    \n",
    "def load_pth(name):\n",
    "\t\tfile_id = \"1cYp0p0mW5xa4PJQAMwrY_TE3cK1iEL5g\"\n",
    "\t\tdest = os.path.join(TRAINED_DIR, f\"{name}.pth\" )\n",
    "\t\turl = f'https://drive.google.com/uc?id={file_id}'\n",
    "\t\tgdown.download(url, dest, quiet=False)\n",
    "\t\tprint(f\"File downloaded successfully and saved to {dest}\")\n",
    "\n",
    "\n",
    "def load_model(model, trained_model_dir: str, name: str) -> Any:\n",
    "    model_path = os.path.join(trained_model_dir, f\"{name}.pth\")\n",
    "\n",
    "    if not os.path.exists(model_path):\n",
    "        raise FileNotFoundError(f\"No model file found for target '{name}' at {model_path}\")\n",
    "\n",
    "    try:\n",
    "        model_dict = torch.load(model_path)\n",
    "        model.load_state_dict(model_dict)\n",
    "        print(f\"Model for '{name}' loaded successfully from {model_path}\")\n",
    "        return model\n",
    "    except Exception as e:\n",
    "        print(f\"Failed to load model for '{name}' from {model_path}. Error: {e}\")\n",
    "        raise"
   ]
  },
  {
   "cell_type": "code",
   "execution_count": 23,
   "metadata": {},
   "outputs": [
    {
     "name": "stderr",
     "output_type": "stream",
     "text": [
      "Downloading...\n",
      "From (original): https://drive.google.com/uc?id=1cYp0p0mW5xa4PJQAMwrY_TE3cK1iEL5g\n",
      "From (redirected): https://drive.google.com/uc?id=1cYp0p0mW5xa4PJQAMwrY_TE3cK1iEL5g&confirm=t&uuid=e0bc05e7-eddf-4ffd-ba4e-9f9d11c2cb52\n",
      "To: /Users/camillechan/Desktop/WildScenes/mask2former_v2.pth\n",
      "100%|██████████| 432M/432M [00:37<00:00, 11.4MB/s] "
     ]
    },
    {
     "name": "stdout",
     "output_type": "stream",
     "text": [
      "File downloaded successfully and saved to /Users/camillechan/Desktop/WildScenes/mask2former_v2.pth\n"
     ]
    },
    {
     "name": "stderr",
     "output_type": "stream",
     "text": [
      "\n"
     ]
    }
   ],
   "source": [
    "load_pth(MODEL_NAME)"
   ]
  },
  {
   "cell_type": "markdown",
   "metadata": {},
   "source": [
    "# Compute IoU\n",
    "\n",
    "The `ignore_class_IoU` selects only the class IoU which are not in `IGNORED_CLASSES` and calculates their mean."
   ]
  },
  {
   "cell_type": "code",
   "execution_count": 12,
   "metadata": {},
   "outputs": [],
   "source": [
    "def ignore_class_IoU(total_iou):\n",
    "\tclass_iou = total_iou[\"per_category_iou\"].tolist()\n",
    "\tselect_classes = [iou for id, iou in enumerate(class_iou) if id not in IGNORED_CLASSES]\n",
    "\tmean_iou = sum(select_classes)/(len(select_classes))\n",
    "\tprint(\"Selected IoU values:\", select_classes)\n",
    "\tprint(\"Mean IoU:\", mean_iou)\n",
    "\treturn select_classes, mean_iou"
   ]
  },
  {
   "cell_type": "markdown",
   "metadata": {},
   "source": [
    "# Evaluation\n",
    "- The `evaluate_model` function is designed to evaluate the  model on a validation dataset. It computes the Intersection over Union (IoU) metric to assess the model's performance.\n"
   ]
  },
  {
   "cell_type": "code",
   "execution_count": 13,
   "metadata": {},
   "outputs": [],
   "source": [
    "def evaluate_model(\n",
    "\t\tmodel,\n",
    "\t\tval_dataloader,\n",
    "\t\tpreprocessor,\n",
    "\t\tmetric,\n",
    "\t\tid2label,\n",
    "\t\tdevice\n",
    "\t):\n",
    "\tmodel.eval()\n",
    "\twith torch.no_grad():\n",
    "\t\t\tfor batch in tqdm(val_dataloader):\n",
    "\t\t\t\tpixel_values = batch[\"pixel_values\"].to(device)\n",
    "\t\t\t\toutputs = model(pixel_values=pixel_values)\n",
    "\t\t\t\toriginal_images = batch[\"original_images\"]\n",
    "\t\t\t\ttarget_sizes = [(IMG_HEIGHT, IMG_WIDTH)] * len(original_images)\n",
    "\t\t\t\tpred = (preprocessor.post_process_semantic_segmentation(outputs, target_sizes=target_sizes))\n",
    "\t\t\t\ttruth = batch[\"original_masks\"]\n",
    "\t\t\t\tmetric.add_batch(references=truth, predictions=pred)\n",
    "\ttotal_iou = metric.compute(num_labels=len(id2label), ignore_index=0)\n",
    "\treturn ignore_class_IoU(total_iou)"
   ]
  },
  {
   "cell_type": "markdown",
   "metadata": {},
   "source": [
    "# Training\n",
    "\n",
    "The `train_model` function is designed to train the model using the training dataset and validation dataset. "
   ]
  },
  {
   "cell_type": "code",
   "execution_count": 14,
   "metadata": {},
   "outputs": [],
   "source": [
    "def train_model(\n",
    "        model,\n",
    "        train_dataloader,\n",
    "        device,\n",
    "        num_epochs,\n",
    "        learning_rate,\n",
    "\t\t\t\tval_dataloader,\n",
    "\t\t\t\tpreprocessor,\n",
    "\t\t\t\tmetric,\n",
    "\t\t\t\tid2label\n",
    "        ):\n",
    "\t\tprint(\"Training:\")\n",
    "\t\tmodel.to(device)\n",
    "\t\tmodel.train()\n",
    "\t\toptimizer = torch.optim.Adam(model.parameters(), lr=learning_rate)\n",
    "\t\tprint(next(model.parameters()).device)\n",
    "\t\tcounter = 0\n",
    "\t\tbest_iou = 0\n",
    "\n",
    "\t\tfor epoch in range(num_epochs):\n",
    "\t\t\tcounter += 1\n",
    "\t\t\tprint(f\"Current epoch: {epoch+1}/{num_epochs}\")\n",
    "\t\t\tmodel.train()\n",
    "\n",
    "\t\t\trunning_loss = 0.0\n",
    "\n",
    "\t\t\tfor batch in tqdm(train_dataloader):\n",
    "\t\t\t\t\toptimizer.zero_grad()\n",
    "\t\t\t\t\tpixel_values = batch[\"pixel_values\"].to(device)\n",
    "\t\t\t\t\tmask_labels=[labels.to(device) for labels in batch[\"mask_labels\"]]\n",
    "\t\t\t\t\tclass_labels=[labels.to(device) for labels in batch[\"class_labels\"]]\n",
    "\n",
    "\t\t\t\t\toutputs = model(\n",
    "\t\t\t\t\t\t\tpixel_values=pixel_values,\n",
    "\t\t\t\t\t\t\tmask_labels=mask_labels,\n",
    "\t\t\t\t\t\t\tclass_labels=class_labels,\n",
    "\t\t\t\t\t)\n",
    "\t\t\t\t\t\n",
    "\t\t\t\t\tloss = outputs.loss\n",
    "\t\t\t\t\trunning_loss += loss.item()\n",
    "\t\t\t\t\t\n",
    "\t\t\t\t\tloss.backward()\n",
    "\t\t\t\t\toptimizer.step()\n",
    "\t\t\t\t\t\n",
    "\t\t\t\t\trunning_loss += loss.item()\n",
    "\t\t\tprint(f\"Epoch {epoch+1} Loss: {running_loss / counter}\")\n",
    "\t\t\tclass_iou, mean_iou = evaluate_model(model, val_dataloader, preprocessor, metric, id2label, device)\n",
    "\t\t\tif mean_iou > best_iou:\n",
    "\t\t\t\tbest_iou = mean_iou\n",
    "\t\t\t\tsave_model(model, MODEL_NAME)\n"
   ]
  },
  {
   "cell_type": "markdown",
   "metadata": {},
   "source": [
    "# Training script\n",
    "\n",
    "This script sets up and runs the training process.\n"
   ]
  },
  {
   "cell_type": "code",
   "execution_count": 15,
   "metadata": {},
   "outputs": [
    {
     "name": "stderr",
     "output_type": "stream",
     "text": [
      "\n",
      "KeyboardInterrupt\n",
      "\n"
     ]
    }
   ],
   "source": [
    "# create datasets and load data loaders\n",
    "train_dataset, val_dataset, test_dataset = get_dataset(\n",
    "\tdf_train,\n",
    "\tTRAIN_IMG_PATH,\n",
    "\tTRAIN_MASK_PATH,\n",
    "\tdf_val,\n",
    "\tVAL_IMG_PATH,\n",
    "\tVAL_MASK_PATH,\n",
    "\tdf_test,\n",
    "\tTEST_IMG_PATH,\n",
    "\tTEST_MASK_PATH\n",
    ")\n",
    "\n",
    "train_dataloader, val_dataloader, test_dataloader = get_dataloaders(train_dataset, val_dataset, test_dataset, BATCH_SIZE)\n",
    "\n",
    "sample = next(iter(train_dataloader))\n",
    "print(\n",
    "    {\n",
    "        key: value[0].shape if isinstance(value, list) else value.shape\n",
    "        for key, value in sample.items()\n",
    "    }\n",
    ")\n",
    "\n",
    "# load weights\n",
    "weights = load_weights(CLASS_WEIGHTS)\n",
    "\n",
    "# load model\n",
    "preprocessor, model = load_training_model(weights)\n",
    "\n",
    "# freeze layers for fine tuning\n",
    "for param in model.model.pixel_level_module.parameters():\n",
    "\tparam.requires_grad = False\n",
    "\n",
    "# define metric for iou computation\n",
    "metric = evaluate.load(\"mean_iou\")\n",
    "\n",
    "# define device to be used\n",
    "device = torch.device('cuda' if torch.cuda.is_available() else 'cpu')\n",
    "print(\"Training on device: \", device)\n",
    "\n",
    "train_model(\n",
    "\t\t\t\tmodel=model,\n",
    "\t\t\t\ttrain_dataloader=train_dataloader,\n",
    "\t\t\t\tdevice=device,\n",
    "\t\t\t\tval_dataloader=val_dataloader,\n",
    "\t\t\t\tpreprocessor=preprocessor,\n",
    "\t\t\t\tmetric=metric,\n",
    "\t\t\t\tid2label=cidx_2_class,\n",
    "\t\t\t\tnum_epochs = 18,\n",
    "\t\t\t\tlearning_rate = 0.0001,\n",
    "\t\t\t\t)"
   ]
  },
  {
   "cell_type": "markdown",
   "metadata": {},
   "source": [
    "# Inference\n",
    "\n",
    "- The `draw_segmentation_map` function takes in the predicted map and returns a colored version of the map.\n",
    "- The `inference_multiple` function evaluates the model on the test set.\n",
    "- The `inference_single` function takes in the original image and its labelled mask and returns the model's predicted segmentation map."
   ]
  },
  {
   "cell_type": "code",
   "execution_count": 24,
   "metadata": {},
   "outputs": [],
   "source": [
    "def draw_segmentation_map(predicted_map):\n",
    "\tcolored_output = np.zeros((predicted_map.shape[0], predicted_map.shape[1],3), dtype=np.uint8)\n",
    "\tfor class_idx, color in enumerate(METAINFO['palette']):\n",
    "\t\tmask = predicted_map == class_idx\n",
    "\t\tcolored_output[mask]=color\n",
    "\treturn colored_output\n",
    "\n",
    "def inference_multiple(model, dataloader, preprocessor, device, metric):\n",
    "\tmodel = load_model(model, TRAINED_DIR, MODEL_NAME)\n",
    "\tmodel.to(device)\n",
    "\tmodel.eval()\n",
    "\twith torch.no_grad():\n",
    "\t\tfor i, batch in enumerate(tqdm(dataloader)):\n",
    "\t\t\tpixel_values = batch[\"pixel_values\"].to(device)\n",
    "\t\t\toutputs = model(pixel_values=pixel_values)\n",
    "\t\t\toriginal_images = batch[\"original_images\"]\n",
    "\t\t\ttarget_sizes = [(IMG_HEIGHT, IMG_WIDTH)] * len(original_images)\n",
    "\t\t\tpred = (preprocessor.post_process_semantic_segmentation(outputs, target_sizes=target_sizes))\n",
    "\t\t\ttruth = batch[\"original_masks\"]\n",
    "\t\t\tmetric.add_batch(references=truth, predictions=pred)\n",
    "\ttotal_iou = metric.compute(num_labels=len(cidx_2_class), ignore_index=0)\n",
    "\tignore_class_IoU(total_iou)\n",
    "\n",
    "def inference_single(model, original_img, ground_truth, truth_label, preprocessor, metric):\n",
    "\t# Load model\n",
    "\tmodel = load_model(model, TRAINED_DIR, MODEL_NAME)\n",
    "\tmodel.eval()\n",
    "\n",
    "\t# Open Images\n",
    "\timg = Image.open(original_img)\n",
    "\ttruth_label = Image.open(truth_label)\n",
    "\tground_truth = Image.open(ground_truth).convert(\"L\")\n",
    "\t\n",
    "\t# Preprocess image\n",
    "\tinputs = preprocessor(images=img, return_tensors=\"pt\")\n",
    "\n",
    "\t# Perform Inference\n",
    "\twith torch.no_grad():\n",
    "\t\toutputs=model(**inputs)\n",
    "\n",
    "\t# Post process outputs\n",
    "\tpredicted_map = preprocessor.post_process_semantic_segmentation(\n",
    "\t\toutputs, target_sizes= [img.size[::-1]]\n",
    "\t)[0]\n",
    "\tprint(predicted_map.shape)\n",
    "\n",
    "\t# Compute IoU\n",
    "\tiou = metric.compute(references=[ground_truth], predictions=[predicted_map],num_labels=len(class_2_cidx), ignore_index=0)\n",
    "\tignore_class_IoU(iou)\n",
    "\n",
    "\t# Draw segmentation map\n",
    "\tcolored_pred = draw_segmentation_map(predicted_map)\n",
    "\n",
    "\t# Display Results\n",
    "\tfig, ax = plt.subplots(1, 2,figsize=(8, 6))\n",
    "\tax[0].imshow(truth_label)\n",
    "\tax[0].set_title(\"Ground Truth\")\n",
    "\tax[0].axis(\"off\")\n",
    "\n",
    "\tax[1].imshow(colored_pred)\n",
    "\tax[1].set_title(\"Prediction\")\n",
    "\tax[1].axis(\"off\")\n",
    "\tplt.tight_layout()\n",
    "\tplt.show()"
   ]
  },
  {
   "cell_type": "markdown",
   "metadata": {},
   "source": [
    "# Inference on single images\n",
    "This cell runs `inference_single`\n",
    "\n",
    "Modify this cell to run the model on different images. Below is an example of how the function is called."
   ]
  },
  {
   "cell_type": "code",
   "execution_count": 25,
   "metadata": {},
   "outputs": [
    {
     "name": "stdout",
     "output_type": "stream",
     "text": [
      "Model for 'mask2former_v2' loaded successfully from /Users/camillechan/Desktop/WildScenes/mask2former_v2.pth\n",
      "torch.Size([1512, 2016])\n"
     ]
    },
    {
     "name": "stderr",
     "output_type": "stream",
     "text": [
      "/Users/camillechan/miniconda3/envs/wildscenes1/lib/python3.9/site-packages/datasets/features/image.py:348: UserWarning: Downcasting array dtype int64 to int32 to be compatible with 'Pillow'\n",
      "  warnings.warn(f\"Downcasting array dtype {dtype} to {dest_dtype} to be compatible with 'Pillow'\")\n",
      "/Users/camillechan/.cache/huggingface/modules/evaluate_modules/metrics/evaluate-metric--mean_iou/9e450724f21f05592bfb0255fe2fa576df8171fa060d11121d8aecfff0db80d0/mean_iou.py:259: RuntimeWarning: invalid value encountered in divide\n",
      "  iou = total_area_intersect / total_area_union\n",
      "/Users/camillechan/.cache/huggingface/modules/evaluate_modules/metrics/evaluate-metric--mean_iou/9e450724f21f05592bfb0255fe2fa576df8171fa060d11121d8aecfff0db80d0/mean_iou.py:260: RuntimeWarning: invalid value encountered in divide\n",
      "  acc = total_area_intersect / total_area_label\n"
     ]
    },
    {
     "name": "stdout",
     "output_type": "stream",
     "text": [
      "Selected IoU values: [0.0, nan, nan, 0.0, 0.0, 0.2736273019091063, 0.7807327255265106, 0.0, 0.0, 0.0, nan, nan, nan, 0.47678932559570913, 0.7230319149793071]\n",
      "Mean IoU: nan\n"
     ]
    },
    {
     "data": {
      "image/png": "[encoded data removed]",
      "text/plain": [
       "<Figure size 800x600 with 2 Axes>"
      ]
     },
     "metadata": {},
     "output_type": "display_data"
    }
   ],
   "source": [
    "original_image = \"img/og_img.png\"\n",
    "truth_label = \"img/truth.png\"\n",
    "truth_mask = \"img/truth_mask.png\"\n",
    "model = Mask2FormerForUniversalSegmentation.from_pretrained(\"facebook/mask2former-swin-base-IN21k-ade-semantic\")\n",
    "processor = AutoImageProcessor.from_pretrained(\"facebook/mask2former-swin-base-IN21k-ade-semantic\")\n",
    "metric = evaluate.load(\"mean_iou\")\n",
    "\n",
    "inference_single(model,original_image, truth_mask, truth_label, processor, metric)"
   ]
  },
  {
   "cell_type": "markdown",
   "metadata": {},
   "source": [
    "# Inference on test set\n",
    "This cell runs `inference_multiple` on the test set."
   ]
  },
  {
   "cell_type": "code",
   "execution_count": null,
   "metadata": {},
   "outputs": [
    {
     "name": "stdout",
     "output_type": "stream",
     "text": [
      "Model for 'mask2former_v2' loaded successfully from /Users/camillechan/WildScenes/mask2former_v2.pth\n"
     ]
    },
    {
     "name": "stderr",
     "output_type": "stream",
     "text": [
      "100%|██████████| 34/34 [33:26<00:00, 59.02s/it]\n"
     ]
    },
    {
     "name": "stdout",
     "output_type": "stream",
     "text": [
      "Selected IoU values: [0.64828259648223, 0.0, 0.0, 0.0, 0.0, 0.4654865176092725, 0.7724875247593833, 3.6128012968646316e-05, 0.0, 0.6783632180426746, 0.1523921410473343, 0.002666326476669971, 0.3799861435015569, 0.5802244598843819, 0.5483877310039128]\n",
      "Mean IoU: 0.28188751912135895\n"
     ]
    }
   ],
   "source": [
    "train_dataset, val_dataset, test_dataset = get_dataset(\n",
    "\tdf_train,\n",
    "\tTRAIN_IMG_PATH,\n",
    "\tTRAIN_MASK_PATH,\n",
    "\tdf_val,\n",
    "\tVAL_IMG_PATH,\n",
    "\tVAL_MASK_PATH,\n",
    "\tdf_test,\n",
    "\tTEST_IMG_PATH,\n",
    "\tTEST_MASK_PATH\n",
    ")\n",
    "\n",
    "# for devices which supports cuda\n",
    "device = torch.device('cuda' if torch.cuda.is_available() else 'cpu')\n",
    "\n",
    "train_dataloader, val_dataloader, test_dataloader = get_dataloaders(train_dataset, val_dataset, test_dataset, BATCH_SIZE)\n",
    "model = Mask2FormerForUniversalSegmentation.from_pretrained(\"facebook/mask2former-swin-base-IN21k-ade-semantic\")\n",
    "processor = AutoImageProcessor.from_pretrained(\"facebook/mask2former-swin-base-IN21k-ade-semantic\")\n",
    "metric = evaluate.load(\"mean_iou\")\n",
    "\n",
    "inference_multiple(model, test_dataloader, processor, device, metric)"
   ]
  },
  {
   "cell_type": "markdown",
   "metadata": {},
   "source": [
    "# Reference\n",
    "Adapted from:\n",
    "[1] Vision Transformers: Semantic Segmentation Transfer Learning, available at: https://colab.research.google.com/github/johko/computer-vision-course/blob/main/notebooks/Unit%203%20-%20Vision%20Transformers/transfer-learning-segmentation.ipynb.\n",
    "\n",
    "[2] Fine Tuning Mask2Former, DebuggerCafe, available at: https://debuggercafe.com/fine-tuning-mask2former/.\n"
   ]
  }
 ],
 "metadata": {
  "kernelspec": {
   "display_name": "Python 3",
   "language": "python",
   "name": "python3"
  },
  "language_info": {
   "codemirror_mode": {
    "name": "ipython",
    "version": 3
   },
   "file_extension": ".py",
   "mimetype": "text/x-python",
   "name": "python",
   "nbconvert_exporter": "python",
   "pygments_lexer": "ipython3",
   "version": "3.9.19"
  }
 },
 "nbformat": 4,
 "nbformat_minor": 2
}
